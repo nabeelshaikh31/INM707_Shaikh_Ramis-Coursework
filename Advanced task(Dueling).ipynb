{
  "nbformat": 4,
  "nbformat_minor": 0,
  "metadata": {
    "colab": {
      "name": "Dueling Final.ipynb",
      "provenance": [],
      "background_execution": "on"
    },
    "kernelspec": {
      "name": "python3",
      "display_name": "Python 3"
    },
    "language_info": {
      "name": "python"
    },
    "accelerator": "GPU"
  },
  "cells": [
    {
      "cell_type": "code",
      "source": [
        "#Importing libraries,\n",
        "import gym\n",
        "import torch\n",
        "from collections import deque\n",
        "import random\n",
        "from torch.autograd import Variable\n",
        "import torch.nn as nn\n",
        "#Setting the enviroment\n",
        "env = gym.envs.make(\"CartPole-v1\")\n"
      ],
      "metadata": {
        "id": "T_0bd38WgTOi"
      },
      "execution_count": 1,
      "outputs": []
    },
    {
      "cell_type": "code",
      "source": [
        "\n",
        "#Implementing The dueling class with two values set for the Q value: the value, and the advantage\n",
        "#which it links between the action and the value for a given state.\n",
        "\n",
        "class DuelingModel(nn.Module):\n",
        "    def __init__(self, n_input, n_output, n_hidden):\n",
        "        super(DuelingModel, self).__init__()\n",
        "        self.adv1 = nn.Linear(n_input, n_hidden)\n",
        "        self.adv2 = nn.Linear(n_hidden, n_output)\n",
        "        self.val1 = nn.Linear(n_input, n_hidden)\n",
        "        self.val2 = nn.Linear(n_hidden, 1)\n",
        "\n",
        "    def forward(self, x):\n",
        "        adv = nn.functional.relu(self.adv1(x))\n",
        "        adv = self.adv2(adv)\n",
        "        val = nn.functional.relu(self.val1(x))\n",
        "        val = self.val2(val)\n",
        "        return val + adv - adv.mean()"
      ],
      "metadata": {
        "id": "8Ts0F8q4jYDx"
      },
      "execution_count": 2,
      "outputs": []
    },
    {
      "cell_type": "code",
      "source": [
        "\n",
        "#Defininf the DQN class which will inclued the improvemnt defined in the dueling class.\n",
        "class DQN():\n",
        "    def __init__(self, n_state, n_action, n_hidden=50, lr=0.05):\n",
        "        self.criterion = torch.nn.MSELoss()\n",
        "        self.model = DuelingModel(n_state, n_action, n_hidden)\n",
        "        self.optimizer = torch.optim.Adam(self.model.parameters(), lr)\n",
        "\n",
        "\n",
        "    def update(self, s, y):\n",
        "    #function for weight uppdating per every sample of training.\n",
        "        y_pred = self.model(torch.Tensor(s))\n",
        "        loss = self.criterion(y_pred, Variable(torch.Tensor(y)))\n",
        "        self.optimizer.zero_grad()\n",
        "        loss.backward()\n",
        "        self.optimizer.step()\n",
        "\n",
        "\n",
        "    def predict(self, s):\n",
        "    #learning different Qvalues for different actions to predict the value and the advantage\n",
        "        with torch.no_grad():\n",
        "            return self.model(torch.Tensor(s))\n",
        "\n",
        "\n",
        "    def replay(self, memory, replay_size, gamma):\n",
        "    #Implementing Experience Replay that will store the experience in the memory and then sample them\n",
        "    # to weaken coreleation and boosts stability\n",
        "        if len(memory) >= replay_size:\n",
        "            replay_data = random.sample(memory, replay_size)\n",
        "            states = []\n",
        "            td_targets = []\n",
        "            for state, action, next_state, reward, is_done in replay_data:\n",
        "                states.append(state)\n",
        "                q_values = self.predict(state).tolist()\n",
        "                if is_done:\n",
        "                    q_values[action] = reward\n",
        "                else:\n",
        "                    q_values_next = self.predict(next_state)\n",
        "                    q_values[action] = reward + gamma * torch.max(q_values_next).item()\n",
        "\n",
        "                td_targets.append(q_values)\n",
        "\n",
        "            self.update(states, td_targets)\n"
      ],
      "metadata": {
        "id": "OlgRxGt7jd6N"
      },
      "execution_count": 3,
      "outputs": []
    },
    {
      "cell_type": "code",
      "source": [
        "\n",
        "#Implementing gready policy that would start with a high epsilon value\n",
        "#and decreases with the time resulting in an increase in exploitation and decrease in exploration\n",
        "def gen_epsilon_greedy_policy(estimator, epsilon, n_action):\n",
        "    def policy_function(state):\n",
        "        if random.random() < epsilon:\n",
        "            return random.randint(0, n_action - 1)\n",
        "        else:\n",
        "            q_values = estimator.predict(state)\n",
        "            return torch.argmax(q_values).item()\n",
        "    return policy_function"
      ],
      "metadata": {
        "id": "GPOQdem3jiVK"
      },
      "execution_count": 4,
      "outputs": []
    },
    {
      "cell_type": "code",
      "source": [
        "\n",
        "\n",
        "\n",
        "# Q learning implementation that passes the dQN as the value of the estimator then it updates it for every set of replay\n",
        "\n",
        "def q_learning(env, estimator, n_episode, replay_size, gamma=1.0, epsilon=0.1, epsilon_decay=.99):\n",
        "\n",
        "    for episode in range(n_episode):\n",
        "\n",
        "        policy = gen_epsilon_greedy_policy(estimator, epsilon, n_action)\n",
        "        state = env.reset()\n",
        "        is_done = False\n",
        "\n",
        "        while not is_done:\n",
        "            action = policy(state)\n",
        "            next_state, reward, is_done, _ = env.step(action)\n",
        "\n",
        "            total_reward_episode[episode] += reward\n",
        "\n",
        "\n",
        "            memory.append((state, action, next_state, reward, is_done))\n",
        "        \n",
        "\n",
        "            if is_done:\n",
        "                break\n",
        "\n",
        "            estimator.replay(memory, replay_size, gamma)\n",
        "\n",
        "            state = next_state\n",
        "\n",
        "        epsilon = max(epsilon * epsilon_decay, 0.01)\n",
        "\n",
        "\n",
        "\n",
        "        # print(episode, total_reward_episode[episode], epsilon)\n",
        "        \n",
        "\n",
        "\n",
        "\n",
        "\n",
        "\n"
      ],
      "metadata": {
        "id": "leoeEVGji-NZ"
      },
      "execution_count": 5,
      "outputs": []
    },
    {
      "cell_type": "code",
      "source": [
        "#Defining the parametrs that would. determine the learning process thus the preformance\n",
        "n_state = env.observation_space.shape[0]\n",
        "n_action = env.action_space.n\n",
        "n_hidden = 40\n",
        "lr = 0.003\n",
        "#calling the estimator with the set of defined parametrs\n",
        "dqn = DQN(n_state, n_action, n_hidden, lr)\n",
        "\n",
        "\n",
        "memory = deque(maxlen=10000)\n",
        "\n",
        "n_episode = 1000\n",
        "replay_size = 25\n",
        "total_reward_episode = [0] * n_episode\n",
        "#calling the qlearning with the set of parametrs that will determine the replay size and how many episodes it will train on \n",
        "\n",
        "q_learning(env, dqn, n_episode, replay_size, gamma=.8, epsilon=1)"
      ],
      "metadata": {
        "id": "YGP2PlptjG2N"
      },
      "execution_count": 18,
      "outputs": []
    },
    {
      "cell_type": "code",
      "source": [
        "\n",
        "import matplotlib.pyplot as plt\n",
        "plt.plot(total_reward_episode)\n",
        "plt.title('Episode reward over time')\n",
        "plt.xlabel('Episode')\n",
        "plt.ylabel('Total reward')\n",
        "plt.show()\n"
      ],
      "metadata": {
        "colab": {
          "base_uri": "https://localhost:8080/",
          "height": 295
        },
        "id": "e4QPdPAfjAYm",
        "outputId": "5c987fd6-e565-4efa-8dd6-7a765712a037"
      },
      "execution_count": 19,
      "outputs": [
        {
          "output_type": "display_data",
          "data": {
            "text/plain": [
              "<Figure size 432x288 with 1 Axes>"
            ],
            "image/png": "[encoded data removed]"
          },
          "metadata": {
            "needs_background": "light"
          }
        }
      ]
    },
    {
      "cell_type": "code",
      "source": [
        "import pandas as pd\n",
        "with open(\"tuning3.pickle\", \"rb\") as f:\n",
        "    object = pickle.load(f)\n",
        "    \n",
        "df = pd.DataFrame(object)\n",
        "df.to_csv(r'file.csv')\n"
      ],
      "metadata": {
        "id": "zR8DuFXpQ0JQ"
      },
      "execution_count": 21,
      "outputs": []
    },
    {
      "cell_type": "code",
      "source": [
        "\n",
        "#Defining the grid search that will go through different set of parametrs and return the average award for every set\n",
        "#which will help tune the model by determing the best hyper parameters for The problem \n",
        "\n",
        "import pickle\n",
        "n_hidden_options = [35, 40]\n",
        "lr_options = [0.001, 0.003]\n",
        "replay_size_options = [25,30, 35]\n",
        "last_episode = 500\n",
        "\n",
        "\n",
        "filename = 'tuning3.pickle'\n",
        "for n_hidden in n_hidden_options:\n",
        "    for lr in lr_options:\n",
        "        for replay_size in replay_size_options:\n",
        "            \n",
        "              env.seed(1)\n",
        "              random.seed(1)\n",
        "              torch.manual_seed(1)\n",
        "\n",
        "              dqn = DQN(n_state, n_action, n_hidden, lr)\n",
        "              memory = deque(maxlen=10000)\n",
        "              total_reward_episode = [0] * n_episode\n",
        "\n",
        "              q_learning(env, dqn, n_episode, replay_size, gamma=.8, epsilon=1)\n",
        "              \n",
        "              avg=sum(total_reward_episode[-last_episode:])/last_episode\n",
        "        \n",
        "              avg=sum(total_reward_episode[-last_episode:])/last_episode\n",
        "              print(\"Hidden layer: \",n_hidden, \"lr: \",lr,\"Replay size: \", replay_size, \"AVG reward: \",avg)\n",
        "              visual=n_hidden, lr, replay_size, avg\n",
        "              pickle.dump(visual, open(filename, 'wb'))"
      ],
      "metadata": {
        "colab": {
          "base_uri": "https://localhost:8080/"
        },
        "id": "J5RVSr0WjAis",
        "outputId": "129af9aa-61e9-474d-cfea-5deb5cc00f7c"
      },
      "execution_count": 17,
      "outputs": [
        {
          "output_type": "stream",
          "name": "stdout",
          "text": [
            "Hidden layer:  35 lr:  0.001 Replay size:  25 AVG reward:  9.416\n",
            "Hidden layer:  35 lr:  0.001 Replay size:  30 AVG reward:  9.714\n",
            "Hidden layer:  35 lr:  0.001 Replay size:  35 AVG reward:  9.556\n",
            "Hidden layer:  35 lr:  0.003 Replay size:  25 AVG reward:  15.954\n",
            "Hidden layer:  35 lr:  0.003 Replay size:  30 AVG reward:  16.736\n",
            "Hidden layer:  35 lr:  0.003 Replay size:  35 AVG reward:  11.206\n",
            "Hidden layer:  40 lr:  0.001 Replay size:  25 AVG reward:  9.82\n",
            "Hidden layer:  40 lr:  0.001 Replay size:  30 AVG reward:  9.754\n",
            "Hidden layer:  40 lr:  0.001 Replay size:  35 AVG reward:  9.514\n",
            "Hidden layer:  40 lr:  0.003 Replay size:  25 AVG reward:  120.942\n",
            "Hidden layer:  40 lr:  0.003 Replay size:  30 AVG reward:  83.516\n",
            "Hidden layer:  40 lr:  0.003 Replay size:  35 AVG reward:  91.952\n"
          ]
        }
      ]
    }
  ]
}