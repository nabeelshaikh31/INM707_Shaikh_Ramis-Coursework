{
 "cells": [
  {
   "cell_type": "code",
   "execution_count": 1,
   "id": "0a552b13",
   "metadata": {},
   "outputs": [],
   "source": [
    "import torch\n",
    "import numpy as np\n",
    "import random\n",
    "import gym\n",
    "import matplotlib.pyplot as plt\n",
    "from collections import defaultdict"
   ]
  },
  {
   "cell_type": "code",
   "execution_count": 2,
   "id": "7921aa30",
   "metadata": {
    "scrolled": true
   },
   "outputs": [
    {
     "name": "stdout",
     "output_type": "stream",
     "text": [
      "Total No. of States: 500\n",
      "Total No. of Actions: 6\n"
     ]
    }
   ],
   "source": [
    "#creating instance of the environment.\n",
    "env = gym.make('Taxi-v3')\n",
    "n_state = env.observation_space.n\n",
    "print(\"Total No. of States:\", n_state)\n",
    "n_action = env.action_space.n\n",
    "print(\"Total No. of Actions:\", n_action)"
   ]
  },
  {
   "cell_type": "code",
   "execution_count": 3,
   "id": "11da8e3f",
   "metadata": {},
   "outputs": [
    {
     "name": "stdout",
     "output_type": "stream",
     "text": [
      "+---------+\n",
      "|R: | : :G|\n",
      "| : | : : |\n",
      "| : : : : |\n",
      "| |\u001b[43m \u001b[0m: | : |\n",
      "|\u001b[34;1mY\u001b[0m| : |\u001b[35mB\u001b[0m: |\n",
      "+---------+\n",
      "\n"
     ]
    }
   ],
   "source": [
    "#manual representation of how the taxi is going to perform pick-up/drop-off.\n",
    "env.reset()\n",
    "env.render()"
   ]
  },
  {
   "cell_type": "code",
   "execution_count": 4,
   "id": "43c432ad",
   "metadata": {},
   "outputs": [
    {
     "name": "stdout",
     "output_type": "stream",
     "text": [
      "(231, -1, False, {'prob': 1.0})\n",
      "(211, -1, False, {'prob': 1.0})\n",
      "(311, -1, False, {'prob': 1.0})\n",
      "(411, -1, False, {'prob': 1.0})\n",
      "(419, -1, False, {'prob': 1.0})\n",
      "+---------+\n",
      "|R: | : :G|\n",
      "| : | : : |\n",
      "| : : : : |\n",
      "| | : | : |\n",
      "|\u001b[42mY\u001b[0m| : |\u001b[35mB\u001b[0m: |\n",
      "+---------+\n",
      "  (Pickup)\n"
     ]
    }
   ],
   "source": [
    "#steps taken by taxi to move towards passenger for pick-up.\n",
    "print(env.step(1))\n",
    "print(env.step(3))\n",
    "print(env.step(0))\n",
    "print(env.step(0))\n",
    "print(env.step(4))\n",
    "env.render()"
   ]
  },
  {
   "cell_type": "code",
   "execution_count": 5,
   "id": "b3ae20c2",
   "metadata": {},
   "outputs": [
    {
     "name": "stdout",
     "output_type": "stream",
     "text": [
      "(319, -1, False, {'prob': 1.0})\n",
      "(219, -1, False, {'prob': 1.0})\n",
      "(239, -1, False, {'prob': 1.0})\n",
      "(259, -1, False, {'prob': 1.0})\n",
      "(279, -1, False, {'prob': 1.0})\n",
      "(379, -1, False, {'prob': 1.0})\n",
      "(479, -1, False, {'prob': 1.0})\n",
      "(475, 20, True, {'prob': 1.0})\n",
      "+---------+\n",
      "|R: | : :G|\n",
      "| : | : : |\n",
      "| : : : : |\n",
      "| | : | : |\n",
      "|Y| : |\u001b[35m\u001b[34;1m\u001b[43mB\u001b[0m\u001b[0m\u001b[0m: |\n",
      "+---------+\n",
      "  (Dropoff)\n"
     ]
    }
   ],
   "source": [
    "#steps taken by taxi to move towards destination for drop-off.\n",
    "print(env.step(1))\n",
    "print(env.step(1))\n",
    "print(env.step(2))\n",
    "print(env.step(2))\n",
    "print(env.step(2))\n",
    "print(env.step(0))\n",
    "print(env.step(0))\n",
    "print(env.step(5))\n",
    "env.render()"
   ]
  },
  {
   "cell_type": "code",
   "execution_count": null,
   "id": "77d3d10b",
   "metadata": {},
   "outputs": [],
   "source": []
  }
 ],
 "metadata": {
  "kernelspec": {
   "display_name": "Python 3 (ipykernel)",
   "language": "python",
   "name": "python3"
  },
  "language_info": {
   "codemirror_mode": {
    "name": "ipython",
    "version": 3
   },
   "file_extension": ".py",
   "mimetype": "text/x-python",
   "name": "python",
   "nbconvert_exporter": "python",
   "pygments_lexer": "ipython3",
   "version": "3.8.6"
  }
 },
 "nbformat": 4,
 "nbformat_minor": 5
}
