{
 "cells": [
  {
   "cell_type": "code",
   "execution_count": 1,
   "id": "0a552b13",
   "metadata": {},
   "outputs": [],
   "source": [
    "import torch\n",
    "import numpy as np\n",
    "import random\n",
    "import gym\n",
    "import matplotlib.pyplot as plt\n",
    "from collections import defaultdict"
   ]
  },
  {
   "cell_type": "code",
   "execution_count": 2,
   "id": "7921aa30",
   "metadata": {
    "scrolled": true
   },
   "outputs": [
    {
     "name": "stdout",
     "output_type": "stream",
     "text": [
      "Total No. of States: 500\n",
      "Total No. of Actions: 6\n"
     ]
    }
   ],
   "source": [
    "#creating instance of the environment.\n",
    "env = gym.make('Taxi-v3')\n",
    "n_state = env.observation_space.n\n",
    "print(\"Total No. of States:\", n_state)\n",
    "n_action = env.action_space.n\n",
    "print(\"Total No. of Actions:\", n_action)"
   ]
  },
  {
   "cell_type": "code",
   "execution_count": 3,
   "id": "11da8e3f",
   "metadata": {},
   "outputs": [
    {
     "name": "stdout",
     "output_type": "stream",
     "text": [
      "+---------+\n",
      "|R: | : :G|\n",
      "| : | : : |\n",
      "| : : : : |\n",
      "| |\u001b[43m \u001b[0m: | : |\n",
      "|\u001b[34;1mY\u001b[0m| : |\u001b[35mB\u001b[0m: |\n",
      "+---------+\n",
      "\n"
     ]
    }
   ],
   "source": [
    "#manual representation of how the taxi is going to perform pick-up/drop-off.\n",
    "env.reset()\n",
    "env.render()"
   ]
  },
  {
   "cell_type": "code",
   "execution_count": 4,
   "id": "43c432ad",
   "metadata": {},
   "outputs": [
    {
     "name": "stdout",
     "output_type": "stream",
     "text": [
      "(231, -1, False, {'prob': 1.0})\n",
      "(211, -1, False, {'prob': 1.0})\n",
      "(311, -1, False, {'prob': 1.0})\n",
      "(411, -1, False, {'prob': 1.0})\n",
      "(419, -1, False, {'prob': 1.0})\n",
      "+---------+\n",
      "|R: | : :G|\n",
      "| : | : : |\n",
      "| : : : : |\n",
      "| | : | : |\n",
      "|\u001b[42mY\u001b[0m| : |\u001b[35mB\u001b[0m: |\n",
      "+---------+\n",
      "  (Pickup)\n"
     ]
    }
   ],
   "source": [
    "#steps taken by taxi to move towards passenger for pick-up.\n",
    "print(env.step(1))\n",
    "print(env.step(3))\n",
    "print(env.step(0))\n",
    "print(env.step(0))\n",
    "print(env.step(4))\n",
    "env.render()"
   ]
  },
  {
   "cell_type": "code",
   "execution_count": 5,
   "id": "b3ae20c2",
   "metadata": {},
   "outputs": [
    {
     "name": "stdout",
     "output_type": "stream",
     "text": [
      "(319, -1, False, {'prob': 1.0})\n",
      "(219, -1, False, {'prob': 1.0})\n",
      "(239, -1, False, {'prob': 1.0})\n",
      "(259, -1, False, {'prob': 1.0})\n",
      "(279, -1, False, {'prob': 1.0})\n",
      "(379, -1, False, {'prob': 1.0})\n",
      "(479, -1, False, {'prob': 1.0})\n",
      "(475, 20, True, {'prob': 1.0})\n",
      "+---------+\n",
      "|R: | : :G|\n",
      "| : | : : |\n",
      "| : : : : |\n",
      "| | : | : |\n",
      "|Y| : |\u001b[35m\u001b[34;1m\u001b[43mB\u001b[0m\u001b[0m\u001b[0m: |\n",
      "+---------+\n",
      "  (Dropoff)\n"
     ]
    }
   ],
   "source": [
    "#steps taken by taxi to move towards destination for drop-off.\n",
    "print(env.step(1))\n",
    "print(env.step(1))\n",
    "print(env.step(2))\n",
    "print(env.step(2))\n",
    "print(env.step(2))\n",
    "print(env.step(0))\n",
    "print(env.step(0))\n",
    "print(env.step(5))\n",
    "env.render()"
   ]
  },
  {
   "cell_type": "code",
   "execution_count": 6,
   "id": "ff725269",
   "metadata": {},
   "outputs": [],
   "source": [
    "#creating function for epsilon-greedy policy.\n",
    "def gen_epsilon_greedy_policy(n_action, epsilon):\n",
    "    def policy_function(state, Q):\n",
    "        probs = torch.ones(n_action) * epsilon / n_action\n",
    "        best_action = torch.argmax(Q[state]).item()\n",
    "        probs[best_action] += 1.0 - epsilon\n",
    "        action = torch.multinomial(probs, 1).item()\n",
    "        return action\n",
    "    return policy_function"
   ]
  },
  {
   "cell_type": "code",
   "execution_count": 7,
   "id": "58410c6f",
   "metadata": {},
   "outputs": [],
   "source": [
    "#initialization of the q-table.\n",
    "n_action = env.action_space.n\n",
    "Q = defaultdict(lambda: torch.zeros(n_action))\n",
    "\n",
    "gamma = 0.9\n",
    "n_episode = 10000\n",
    "alpha = 0.9\n",
    "epsilon = 0.6\n",
    "\n",
    "epsilon_greedy_policy = gen_epsilon_greedy_policy(env.action_space.n, epsilon)\n",
    "length_episode = [0] * n_episode\n",
    "total_reward_episode = [0] * n_episode\n",
    "\n",
    "for episode in range(n_episode):\n",
    "    state = env.reset()\n",
    "    is_done = False\n",
    "    while not is_done:\n",
    "        #rand = random.uniform(0, 1)\n",
    "        if (epsilon >= 0.5):\n",
    "            epsilon *= 0.9999\n",
    "            action = env.action_space.sample()\n",
    "        elif (epsilon < 0.5):\n",
    "            epsilon *= 0.999\n",
    "            action = epsilon_greedy_policy(state, Q)\n",
    "        next_state, reward, is_done, info = env.step(action)\n",
    "        td_delta = reward + gamma * torch.max(Q[next_state]) - Q[state][action]\n",
    "        Q[state][action] += alpha * td_delta\n",
    "        length_episode[episode] += 1\n",
    "        total_reward_episode[episode] += reward\n",
    "        if is_done:\n",
    "            break\n",
    "        state = next_state\n",
    "policy = {}\n",
    "for state, actions in Q.items():\n",
    "    policy[state] = torch.argmax(actions).item()"
   ]
  },
  {
   "cell_type": "code",
   "execution_count": 8,
   "id": "c6edec3a",
   "metadata": {},
   "outputs": [
    {
     "name": "stdout",
     "output_type": "stream",
     "text": [
      "Average no. of steps taken by Taxi for pickup/dropoff process:  14.4\n"
     ]
    }
   ],
   "source": [
    "length = []\n",
    "for no_of_trips in range(1, 11):\n",
    "    state = env.reset()\n",
    "    is_done = False\n",
    "    step = 0\n",
    "    while not is_done and step < 50:\n",
    "        # Take the action (index) that have the maximum expected future reward given that state\n",
    "        action = torch.argmax(Q[state]).item()\n",
    "        next_state, reward, is_done, info = env.step(action)\n",
    "        #clear_output(wait=True)\n",
    "        state = next_state\n",
    "        step += 1\n",
    "    length.append(step)\n",
    "avg_len = sum(length)/10\n",
    "print(\"Average no. of steps taken by Taxi for pickup/dropoff process: \", avg_len)"
   ]
  },
  {
   "cell_type": "code",
   "execution_count": 9,
   "id": "6db007f1",
   "metadata": {},
   "outputs": [
    {
     "data": {
      "image/png": "[encoded data removed]",
      "text/plain": [
       "<Figure size 432x288 with 1 Axes>"
      ]
     },
     "metadata": {
      "needs_background": "light"
     },
     "output_type": "display_data"
    },
    {
     "data": {
      "image/png": "[encoded data removed]",
      "text/plain": [
       "<Figure size 432x288 with 1 Axes>"
      ]
     },
     "metadata": {
      "needs_background": "light"
     },
     "output_type": "display_data"
    }
   ],
   "source": [
    "#plotting length and total reward for each episode over time.\n",
    "plt.plot(length_episode)\n",
    "plt.title('Episode length over time')\n",
    "plt.xlabel('Episode')\n",
    "plt.ylabel('Length')\n",
    "plt.show()\n",
    "\n",
    "plt.plot(total_reward_episode)\n",
    "plt.title('Episode reward over time')\n",
    "plt.xlabel('Episode')\n",
    "plt.ylabel('Total reward')\n",
    "plt.show()"
   ]
  },
  {
   "cell_type": "code",
   "execution_count": 10,
   "id": "3ca319bf",
   "metadata": {},
   "outputs": [],
   "source": [
    "#re-defining the Q- learning process to test different gamma, alpha and epsilon.\n",
    "\n",
    "n_action = env.action_space.n\n",
    "Q = defaultdict(lambda: torch.zeros(n_action))\n",
    "\n",
    "def q_learning(env, gamma, n_episode, alpha):\n",
    "\n",
    "    for episode in range(n_episode):\n",
    "        state = env.reset()\n",
    "        is_done = False\n",
    "        while not is_done:\n",
    "            action = epsilon_greedy_policy(state, Q)\n",
    "            next_state, reward, is_done, info = env.step(action)\n",
    "            td_delta = reward + gamma * torch.max(Q[next_state]) - Q[state][action]\n",
    "            Q[state][action] += alpha * td_delta\n",
    "            length_episode[episode] += 1\n",
    "            total_reward_episode[episode] += reward\n",
    "            if is_done:\n",
    "                break\n",
    "            state = next_state\n",
    "    policy = {}\n",
    "    for state, actions in Q.items():\n",
    "        policy[state] = torch.argmax(actions).item()\n",
    "    return Q, policy\n",
    "\n",
    "def avg_trip_len():\n",
    "    length = []\n",
    "    for no_of_trips in range(1, 11):\n",
    "        state = env.reset()\n",
    "        is_done = False\n",
    "        step = 0\n",
    "        while not is_done and step < 25:\n",
    "            # Take the action (index) that have the maximum expected future reward given that state\n",
    "            action = torch.argmax(Q[state]).item()\n",
    "            next_state, reward, is_done, info = env.step(action)\n",
    "            state = next_state\n",
    "            step += 1\n",
    "        length.append(step)\n",
    "    avg_len = sum(length)/10\n",
    "    return(avg_len)"
   ]
  },
  {
   "cell_type": "code",
   "execution_count": 11,
   "id": "4e376d26",
   "metadata": {},
   "outputs": [
    {
     "name": "stdout",
     "output_type": "stream",
     "text": [
      "For the lowest step value from the below list, the corresponding gamma value will be selected.\n",
      "[12.46 12.1  11.9  12.38 11.98 11.58]\n"
     ]
    },
    {
     "data": {
      "image/png": "[encoded data removed]",
      "text/plain": [
       "<Figure size 432x288 with 1 Axes>"
      ]
     },
     "metadata": {
      "needs_background": "light"
     },
     "output_type": "display_data"
    }
   ],
   "source": [
    "#finding the optimal gamma value by trying different values.\n",
    "gamma = [0.5, 0.6, 0.7, 0.8, 0.9, 1]\n",
    "n_episode = 1000\n",
    "alpha = 0.681\n",
    "epsilon = 0.1\n",
    "best_value = [0, 0, 0, 0, 0, 0]\n",
    "\n",
    "epsilon_greedy_policy = gen_epsilon_greedy_policy(env.action_space.n, epsilon)\n",
    "length_episode = [0] * n_episode\n",
    "total_reward_episode = [0] * n_episode\n",
    "\n",
    "for j in range(1,10):\n",
    "    for i in range(len(gamma)):\n",
    "        q_learning(env, gamma[i], n_episode, alpha)\n",
    "        best_value[i] += avg_trip_len()\n",
    "\n",
    "print(\"For the lowest step value from the below list, the corresponding gamma value will be selected.\") \n",
    "gamma_steps = np.array(best_value)/10\n",
    "print(gamma_steps)\n",
    "\n",
    "#plotting average steps over gamma value.\n",
    "fig = plt.figure()\n",
    "ax = fig.add_axes([0,0,1,1])\n",
    "gamma_value = ['γ=0.5', 'γ=0.6', 'γ=0.7', 'γ=0.8', 'γ=0.9', 'γ=1']\n",
    "ax.bar(gamma_value, gamma_steps)\n",
    "plt.title('Average steps over gamma value')\n",
    "plt.xlabel('Gamma Values')\n",
    "plt.ylabel('Average Steps')\n",
    "plt.show()\n",
    "\n",
    "#selecting the gamma value for the corresponding minimum steps.\n",
    "gamma_min = min(gamma_steps)\n",
    "#print(gamma_min)\n",
    "for i in range(len(gamma)):\n",
    "    if gamma_min == gamma_steps[i]:\n",
    "        optimal_gamma = gamma[i]\n",
    "        break\n",
    "#print(optimal_gamma)"
   ]
  },
  {
   "cell_type": "code",
   "execution_count": 12,
   "id": "8f7bbc74",
   "metadata": {},
   "outputs": [
    {
     "name": "stdout",
     "output_type": "stream",
     "text": [
      "For the lowest step value from the below list, the corresponding alpha value will be selected.\n",
      "[12.14 12.05 11.67 11.93 11.79 11.47 11.85]\n"
     ]
    },
    {
     "data": {
      "image/png": "[encoded data removed]",
      "text/plain": [
       "<Figure size 432x288 with 1 Axes>"
      ]
     },
     "metadata": {
      "needs_background": "light"
     },
     "output_type": "display_data"
    }
   ],
   "source": [
    "#finding the optimal alpha value by trying different values.\n",
    "gamma = optimal_gamma\n",
    "n_episode = 1000\n",
    "alpha = [0.1, 0.2, 0.3, 0.4, 0.5, 0.6, 0.7]\n",
    "epsilon = 0.1\n",
    "best_value = [0, 0, 0, 0, 0, 0, 0]\n",
    "\n",
    "epsilon_greedy_policy = gen_epsilon_greedy_policy(env.action_space.n, epsilon)\n",
    "length_episode = [0] * n_episode\n",
    "total_reward_episode = [0] * n_episode\n",
    "\n",
    "for j in range(1,10):\n",
    "    for i in range(len(alpha)):\n",
    "        q_learning(env, gamma, n_episode, alpha[i])\n",
    "        best_value[i] += avg_trip_len()\n",
    "\n",
    "print(\"For the lowest step value from the below list, the corresponding alpha value will be selected.\") \n",
    "alpha_steps = np.array(best_value)/10\n",
    "print(alpha_steps)\n",
    "\n",
    "#plotting average steps over alpha value.\n",
    "fig = plt.figure()\n",
    "ax = fig.add_axes([0,0,1,1])\n",
    "alpha_value = ['α=0.1', 'α=0.2', 'α=0.3', 'α=0.4', 'α=0.5', 'α=0.6', 'α=0.7']\n",
    "ax.bar(alpha_value, alpha_steps)\n",
    "plt.title('Average steps over alpha value')\n",
    "plt.xlabel('Alpha Values')\n",
    "plt.ylabel('Average Steps')\n",
    "plt.show()\n",
    "\n",
    "#selecting the gamma value for the corresponding minimum steps.\n",
    "alpha_min = min(alpha_steps)\n",
    "#print(alpha_min)\n",
    "for i in range(len(alpha)):\n",
    "    if alpha_min == alpha_steps[i]:\n",
    "        optimal_alpha = alpha[i]\n",
    "        break\n",
    "#print(optimal_alpha)"
   ]
  },
  {
   "cell_type": "code",
   "execution_count": 13,
   "id": "dea0f94e",
   "metadata": {},
   "outputs": [
    {
     "name": "stdout",
     "output_type": "stream",
     "text": [
      "For the lowest step value from the below list, the corresponding epsilon value will be selected.\n",
      "[11.59 11.77 11.73 11.84]\n"
     ]
    },
    {
     "data": {
      "image/png": "[encoded data removed]",
      "text/plain": [
       "<Figure size 432x288 with 1 Axes>"
      ]
     },
     "metadata": {
      "needs_background": "light"
     },
     "output_type": "display_data"
    }
   ],
   "source": [
    "#finding the optimal epsilon value by trying different values.\n",
    "gamma = optimal_gamma\n",
    "n_episode = 1000\n",
    "alpha = optimal_alpha\n",
    "epsilon = [0.1, 0.2, 0.3, 0.4]\n",
    "best_value = [0, 0, 0, 0]\n",
    "\n",
    "\n",
    "length_episode = [0] * n_episode\n",
    "total_reward_episode = [0] * n_episode\n",
    "\n",
    "for j in range(1,10):\n",
    "    for i in range(len(epsilon)):\n",
    "        epsilon_greedy_policy = gen_epsilon_greedy_policy(env.action_space.n, epsilon[i])\n",
    "        q_learning(env, gamma, n_episode, alpha)\n",
    "        best_value[i] += avg_trip_len()\n",
    "\n",
    "print(\"For the lowest step value from the below list, the corresponding epsilon value will be selected.\")         \n",
    "epsilon_steps = np.array(best_value)/10\n",
    "print(epsilon_steps)\n",
    "\n",
    "#plotting average steps over epsilon value.\n",
    "fig = plt.figure()\n",
    "ax = fig.add_axes([0,0,1,1])\n",
    "epsilon_value = ['ε=0.1', 'ε=0.2', 'ε=0.3', 'ε=0.4']\n",
    "ax.bar(epsilon_value, epsilon_steps)\n",
    "plt.title('Average steps over epsilon value')\n",
    "plt.xlabel('Epsilon Values')\n",
    "plt.ylabel('Average Steps')\n",
    "plt.show()\n",
    "\n",
    "#selecting the gamma value for the corresponding minimum steps.\n",
    "epsilon_min = min(epsilon_steps)\n",
    "#print(epsilon_min)\n",
    "for i in range(len(epsilon)):\n",
    "    if epsilon_min == epsilon_steps[i]:\n",
    "        optimal_epsilon = epsilon[i]\n",
    "        break\n",
    "#print(optimal_epsilon)"
   ]
  },
  {
   "cell_type": "code",
   "execution_count": 14,
   "id": "d8c9ef2e",
   "metadata": {},
   "outputs": [
    {
     "name": "stdout",
     "output_type": "stream",
     "text": [
      "Average no. of steps taken: \n",
      "12.12\n"
     ]
    }
   ],
   "source": [
    "#after getting the best values for each parameter, lets test again.\n",
    "gamma = optimal_gamma\n",
    "n_episode = 1000\n",
    "alpha = optimal_alpha\n",
    "epsilon = optimal_epsilon\n",
    "best_value = []\n",
    "\n",
    "\n",
    "length_episode = [0] * n_episode\n",
    "total_reward_episode = [0] * n_episode\n",
    "\n",
    "for j in range(1,10):\n",
    "    epsilon_greedy_policy = gen_epsilon_greedy_policy(env.action_space.n, epsilon)\n",
    "    q_learning(env, gamma, n_episode, alpha)\n",
    "    best_value.append(avg_trip_len())\n",
    "\n",
    "print(\"Average no. of steps taken: \")    \n",
    "print(sum(best_value)/10)"
   ]
  },
  {
   "cell_type": "code",
   "execution_count": 15,
   "id": "2f069117",
   "metadata": {},
   "outputs": [
    {
     "name": "stdout",
     "output_type": "stream",
     "text": [
      "The optimal policy:\n",
      " {427: 1, 327: 1, 447: 1, 347: 1, 227: 2, 247: 2, 127: 0, 147: 2, 267: 1, 367: 1, 467: 1, 167: 1, 287: 1, 387: 1, 487: 1, 187: 1, 207: 2, 307: 1, 407: 1, 107: 2, 47: 2, 67: 2, 87: 4, 27: 0, 7: 0, 99: 3, 199: 3, 299: 3, 399: 3, 444: 1, 344: 1, 424: 1, 324: 2, 244: 2, 144: 0, 264: 1, 364: 1, 464: 2, 164: 1, 284: 1, 384: 1, 484: 1, 184: 1, 224: 2, 124: 0, 204: 2, 304: 1, 404: 1, 104: 2, 24: 0, 4: 0, 44: 2, 64: 2, 84: 4, 46: 2, 146: 2, 246: 2, 346: 1, 446: 1, 66: 2, 166: 2, 266: 1, 366: 1, 466: 1, 86: 4, 186: 1, 286: 1, 386: 1, 486: 1, 226: 2, 326: 2, 426: 2, 126: 0, 206: 2, 306: 1, 406: 1, 106: 0, 26: 0, 6: 2, 98: 3, 198: 1, 298: 3, 398: 1, 78: 0, 178: 3, 278: 3, 378: 1, 478: 1, 368: 1, 468: 1, 268: 3, 388: 3, 488: 1, 288: 3, 168: 0, 188: 3, 248: 3, 348: 1, 448: 1, 148: 0, 68: 0, 88: 3, 48: 2, 228: 3, 328: 1, 428: 1, 128: 3, 208: 0, 308: 0, 408: 4, 108: 0, 8: 0, 28: 1, 416: 1, 316: 1, 216: 1, 116: 1, 236: 1, 336: 1, 436: 3, 136: 3, 256: 3, 156: 0, 356: 3, 456: 0, 276: 3, 376: 1, 476: 1, 176: 0, 296: 3, 396: 3, 496: 1, 196: 3, 16: 5, 36: 3, 0: 0, 73: 0, 173: 0, 273: 0, 373: 0, 473: 4, 293: 0, 393: 3, 493: 3, 193: 0, 253: 2, 353: 1, 453: 1, 153: 0, 233: 2, 333: 2, 433: 1, 133: 0, 213: 2, 313: 1, 413: 1, 113: 2, 33: 0, 13: 0, 93: 0, 53: 0, 477: 2, 377: 2, 497: 1, 397: 1, 332: 1, 432: 1, 232: 2, 352: 1, 452: 1, 252: 2, 132: 0, 152: 0, 272: 0, 372: 0, 472: 4, 172: 0, 292: 3, 392: 3, 492: 3, 192: 0, 212: 2, 312: 1, 412: 1, 112: 0, 12: 2, 32: 0, 52: 0, 72: 0, 92: 0, 277: 2, 297: 1, 177: 1, 197: 1, 257: 1, 357: 1, 457: 1, 157: 1, 251: 3, 351: 1, 451: 1, 151: 0, 271: 3, 371: 1, 471: 1, 171: 0, 291: 3, 391: 3, 491: 3, 191: 3, 231: 3, 331: 2, 431: 1, 131: 3, 51: 0, 71: 0, 91: 0, 211: 0, 311: 0, 411: 4, 111: 0, 31: 0, 11: 0, 109: 0, 209: 0, 309: 0, 409: 4, 9: 2, 129: 0, 229: 3, 329: 1, 429: 2, 29: 0, 249: 3, 349: 1, 449: 1, 149: 0, 269: 3, 369: 2, 469: 1, 169: 0, 289: 3, 389: 1, 489: 1, 189: 3, 49: 0, 69: 0, 89: 3, 417: 1, 419: 1, 319: 1, 219: 2, 119: 0, 239: 2, 339: 2, 439: 1, 139: 3, 259: 2, 359: 1, 459: 0, 159: 2, 279: 0, 379: 0, 479: 5, 179: 0, 79: 0, 59: 2, 341: 3, 441: 1, 241: 3, 321: 1, 421: 1, 221: 1, 141: 0, 261: 3, 361: 1, 461: 1, 161: 3, 281: 3, 381: 3, 481: 1, 181: 3, 121: 1, 101: 1, 201: 1, 301: 1, 401: 1, 1: 4, 41: 0, 61: 0, 81: 0, 21: 3, 17: 0, 117: 0, 217: 2, 317: 1, 37: 0, 137: 0, 237: 2, 337: 1, 437: 2, 56: 0, 76: 3, 96: 0, 97: 5, 77: 2, 57: 2, 85: 0, 474: 4, 374: 0, 494: 3, 394: 3, 498: 0, 274: 0, 294: 0, 194: 3, 174: 0, 254: 2, 354: 1, 454: 1, 154: 2, 94: 3, 74: 0, 54: 2, 234: 2, 334: 1, 434: 2, 134: 0, 214: 2, 314: 1, 414: 1, 114: 2, 34: 0, 14: 0, 58: 0, 158: 0, 258: 3, 358: 3, 458: 1, 238: 3, 338: 1, 438: 1, 138: 0, 218: 0, 318: 0, 38: 3, 118: 0, 18: 0, 418: 5, 410: 0, 2: 4, 102: 1, 202: 1, 302: 1, 402: 1, 22: 0, 122: 3, 222: 1, 322: 1, 422: 1, 242: 3, 342: 1, 442: 3, 142: 0, 262: 3, 362: 1, 462: 1, 162: 0, 282: 3, 382: 3, 482: 1, 182: 3, 42: 3, 62: 0, 82: 0, 499: 3, 475: 0, 63: 0, 163: 0, 263: 3, 363: 1, 463: 2, 83: 0, 183: 3, 283: 3, 383: 3, 483: 1, 43: 0, 143: 0, 243: 3, 343: 1, 443: 1, 223: 3, 323: 1, 423: 1, 123: 3, 203: 1, 303: 1, 403: 1, 103: 1, 19: 0, 39: 0, 3: 4, 23: 3}\n"
     ]
    }
   ],
   "source": [
    "#performing Q-learning to obtain the optimal policy for the taxi problem.\n",
    "\n",
    "gamma = optimal_gamma\n",
    "n_episode = 1000\n",
    "alpha = optimal_alpha\n",
    "epsilon = optimal_epsilon\n",
    "\n",
    "epsilon_greedy_policy = gen_epsilon_greedy_policy(env.action_space.n, epsilon)\n",
    "\n",
    "#length_episode.clear()\n",
    "#total_reward_episode.clear()\n",
    "length_episode = [0] * n_episode\n",
    "total_reward_episode = [0] * n_episode\n",
    "\n",
    "Q = defaultdict(lambda: torch.zeros(n_action))\n",
    "optimal_Q, optimal_policy = q_learning(env, gamma, n_episode, alpha)\n",
    "\n",
    "print(\"The optimal policy:\\n\", optimal_policy)"
   ]
  },
  {
   "cell_type": "code",
   "execution_count": 16,
   "id": "43e843b9",
   "metadata": {},
   "outputs": [
    {
     "data": {
      "image/png": "[encoded data removed]",
      "text/plain": [
       "<Figure size 432x288 with 1 Axes>"
      ]
     },
     "metadata": {
      "needs_background": "light"
     },
     "output_type": "display_data"
    },
    {
     "data": {
      "image/png": "[encoded data removed]",
      "text/plain": [
       "<Figure size 432x288 with 1 Axes>"
      ]
     },
     "metadata": {
      "needs_background": "light"
     },
     "output_type": "display_data"
    }
   ],
   "source": [
    "#plotting episode length and rewards over time.\n",
    "\n",
    "plt.plot(length_episode)\n",
    "plt.title('Episode length over time')\n",
    "plt.xlabel('Episode')\n",
    "plt.ylabel('Length')\n",
    "plt.show()\n",
    "\n",
    "\n",
    "plt.plot(total_reward_episode)\n",
    "plt.title('Episode reward over time')\n",
    "plt.xlabel('Episode')\n",
    "plt.ylabel('Total reward')\n",
    "plt.show()"
   ]
  },
  {
   "cell_type": "code",
   "execution_count": 19,
   "id": "7b18284c",
   "metadata": {},
   "outputs": [
    {
     "name": "stdout",
     "output_type": "stream",
     "text": [
      "*************\n",
      "Final Test\n",
      "*************\n",
      "+---------+\n",
      "|R: | : :\u001b[34;1mG\u001b[0m|\n",
      "| : | : : |\n",
      "| : : : : |\n",
      "| | : | : |\n",
      "|Y| : |\u001b[35m\u001b[43mB\u001b[0m\u001b[0m: |\n",
      "+---------+\n",
      "\n",
      "+---------+\n",
      "|R: | : :\u001b[34;1mG\u001b[0m|\n",
      "| : | : : |\n",
      "| : : : : |\n",
      "| | : |\u001b[43m \u001b[0m: |\n",
      "|Y| : |\u001b[35mB\u001b[0m: |\n",
      "+---------+\n",
      "  (North)\n",
      "+---------+\n",
      "|R: | : :\u001b[34;1mG\u001b[0m|\n",
      "| : | : : |\n",
      "| : : :\u001b[43m \u001b[0m: |\n",
      "| | : | : |\n",
      "|Y| : |\u001b[35mB\u001b[0m: |\n",
      "+---------+\n",
      "  (North)\n",
      "+---------+\n",
      "|R: | : :\u001b[34;1mG\u001b[0m|\n",
      "| : | :\u001b[43m \u001b[0m: |\n",
      "| : : : : |\n",
      "| | : | : |\n",
      "|Y| : |\u001b[35mB\u001b[0m: |\n",
      "+---------+\n",
      "  (North)\n",
      "+---------+\n",
      "|R: | :\u001b[43m \u001b[0m:\u001b[34;1mG\u001b[0m|\n",
      "| : | : : |\n",
      "| : : : : |\n",
      "| | : | : |\n",
      "|Y| : |\u001b[35mB\u001b[0m: |\n",
      "+---------+\n",
      "  (North)\n",
      "+---------+\n",
      "|R: | : :\u001b[34;1m\u001b[43mG\u001b[0m\u001b[0m|\n",
      "| : | : : |\n",
      "| : : : : |\n",
      "| | : | : |\n",
      "|Y| : |\u001b[35mB\u001b[0m: |\n",
      "+---------+\n",
      "  (East)\n",
      "+---------+\n",
      "|R: | : :\u001b[42mG\u001b[0m|\n",
      "| : | : : |\n",
      "| : : : : |\n",
      "| | : | : |\n",
      "|Y| : |\u001b[35mB\u001b[0m: |\n",
      "+---------+\n",
      "  (Pickup)\n",
      "+---------+\n",
      "|R: | :\u001b[42m_\u001b[0m:G|\n",
      "| : | : : |\n",
      "| : : : : |\n",
      "| | : | : |\n",
      "|Y| : |\u001b[35mB\u001b[0m: |\n",
      "+---------+\n",
      "  (West)\n",
      "+---------+\n",
      "|R: | : :G|\n",
      "| : | :\u001b[42m_\u001b[0m: |\n",
      "| : : : : |\n",
      "| | : | : |\n",
      "|Y| : |\u001b[35mB\u001b[0m: |\n",
      "+---------+\n",
      "  (South)\n",
      "+---------+\n",
      "|R: | : :G|\n",
      "| : | : : |\n",
      "| : : :\u001b[42m_\u001b[0m: |\n",
      "| | : | : |\n",
      "|Y| : |\u001b[35mB\u001b[0m: |\n",
      "+---------+\n",
      "  (South)\n",
      "+---------+\n",
      "|R: | : :G|\n",
      "| : | : : |\n",
      "| : : : : |\n",
      "| | : |\u001b[42m_\u001b[0m: |\n",
      "|Y| : |\u001b[35mB\u001b[0m: |\n",
      "+---------+\n",
      "  (South)\n",
      "+---------+\n",
      "|R: | : :G|\n",
      "| : | : : |\n",
      "| : : : : |\n",
      "| | : | : |\n",
      "|Y| : |\u001b[35m\u001b[42mB\u001b[0m\u001b[0m: |\n",
      "+---------+\n",
      "  (South)\n",
      "*******************************\n",
      "Passenger Drop-off Successful\n",
      "*******************************\n",
      "Total number of steps: 12\n",
      "Total number of rewards: 9\n"
     ]
    }
   ],
   "source": [
    "#observing if the agent is able to perform the task(pickup/drop) successfully\n",
    "env.reset()\n",
    "state = env.reset()\n",
    "step = 0\n",
    "total_reward = 0\n",
    "is_done = False\n",
    "print(\"*************\")\n",
    "print(\"Final Test\")\n",
    "print(\"*************\")\n",
    "\n",
    "env.render()\n",
    "\n",
    "while not is_done :\n",
    "\n",
    "    # Take the action (index) that have the maximum expected future reward given that state\n",
    "    action = torch.argmax(optimal_Q[state]).item()\n",
    "    next_state, reward, is_done, info = env.step(action)\n",
    "    step += 1\n",
    "    total_reward += reward\n",
    "    if is_done:\n",
    "        print(\"*******************************\")\n",
    "        print(\"Passenger Drop-off Successful\")\n",
    "        print(\"*******************************\")\n",
    "\n",
    "        # We print the number of step it took.\n",
    "        print(\"Total number of steps:\", step)\n",
    "        print(\"Total number of rewards:\", total_reward)\n",
    "        break\n",
    "    state = next_state\n",
    "    env.render()\n",
    "env.close()"
   ]
  },
  {
   "cell_type": "code",
   "execution_count": null,
   "id": "77d3d10b",
   "metadata": {},
   "outputs": [],
   "source": []
  }
 ],
 "metadata": {
  "kernelspec": {
   "display_name": "Python 3 (ipykernel)",
   "language": "python",
   "name": "python3"
  },
  "language_info": {
   "codemirror_mode": {
    "name": "ipython",
    "version": 3
   },
   "file_extension": ".py",
   "mimetype": "text/x-python",
   "name": "python",
   "nbconvert_exporter": "python",
   "pygments_lexer": "ipython3",
   "version": "3.8.6"
  }
 },
 "nbformat": 4,
 "nbformat_minor": 5
}
