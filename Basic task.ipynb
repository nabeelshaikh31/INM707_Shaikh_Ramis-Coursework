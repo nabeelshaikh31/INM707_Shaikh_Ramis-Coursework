{
 "cells": [
  {
   "cell_type": "code",
   "execution_count": 1,
   "id": "0a552b13",
   "metadata": {},
   "outputs": [],
   "source": [
    "import torch\n",
    "import numpy as np\n",
    "import random\n",
    "import gym\n",
    "import matplotlib.pyplot as plt\n",
    "from collections import defaultdict"
   ]
  },
  {
   "cell_type": "code",
   "execution_count": 2,
   "id": "7921aa30",
   "metadata": {
    "scrolled": true
   },
   "outputs": [
    {
     "name": "stdout",
     "output_type": "stream",
     "text": [
      "Total No. of States: 500\n",
      "Total No. of Actions: 6\n"
     ]
    }
   ],
   "source": [
    "#creating instance of the environment.\n",
    "env = gym.make('Taxi-v3')\n",
    "n_state = env.observation_space.n\n",
    "print(\"Total No. of States:\", n_state)\n",
    "n_action = env.action_space.n\n",
    "print(\"Total No. of Actions:\", n_action)"
   ]
  },
  {
   "cell_type": "code",
   "execution_count": 3,
   "id": "11da8e3f",
   "metadata": {},
   "outputs": [
    {
     "name": "stdout",
     "output_type": "stream",
     "text": [
      "+---------+\n",
      "|R: | : :G|\n",
      "| : | : : |\n",
      "| : : : : |\n",
      "| |\u001b[43m \u001b[0m: | : |\n",
      "|\u001b[34;1mY\u001b[0m| : |\u001b[35mB\u001b[0m: |\n",
      "+---------+\n",
      "\n"
     ]
    }
   ],
   "source": [
    "#manual representation of how the taxi is going to perform pick-up/drop-off.\n",
    "env.reset()\n",
    "env.render()"
   ]
  },
  {
   "cell_type": "code",
   "execution_count": 4,
   "id": "43c432ad",
   "metadata": {},
   "outputs": [
    {
     "name": "stdout",
     "output_type": "stream",
     "text": [
      "(231, -1, False, {'prob': 1.0})\n",
      "(211, -1, False, {'prob': 1.0})\n",
      "(311, -1, False, {'prob': 1.0})\n",
      "(411, -1, False, {'prob': 1.0})\n",
      "(419, -1, False, {'prob': 1.0})\n",
      "+---------+\n",
      "|R: | : :G|\n",
      "| : | : : |\n",
      "| : : : : |\n",
      "| | : | : |\n",
      "|\u001b[42mY\u001b[0m| : |\u001b[35mB\u001b[0m: |\n",
      "+---------+\n",
      "  (Pickup)\n"
     ]
    }
   ],
   "source": [
    "#steps taken by taxi to move towards passenger for pick-up.\n",
    "print(env.step(1))\n",
    "print(env.step(3))\n",
    "print(env.step(0))\n",
    "print(env.step(0))\n",
    "print(env.step(4))\n",
    "env.render()"
   ]
  },
  {
   "cell_type": "code",
   "execution_count": 5,
   "id": "b3ae20c2",
   "metadata": {},
   "outputs": [
    {
     "name": "stdout",
     "output_type": "stream",
     "text": [
      "(319, -1, False, {'prob': 1.0})\n",
      "(219, -1, False, {'prob': 1.0})\n",
      "(239, -1, False, {'prob': 1.0})\n",
      "(259, -1, False, {'prob': 1.0})\n",
      "(279, -1, False, {'prob': 1.0})\n",
      "(379, -1, False, {'prob': 1.0})\n",
      "(479, -1, False, {'prob': 1.0})\n",
      "(475, 20, True, {'prob': 1.0})\n",
      "+---------+\n",
      "|R: | : :G|\n",
      "| : | : : |\n",
      "| : : : : |\n",
      "| | : | : |\n",
      "|Y| : |\u001b[35m\u001b[34;1m\u001b[43mB\u001b[0m\u001b[0m\u001b[0m: |\n",
      "+---------+\n",
      "  (Dropoff)\n"
     ]
    }
   ],
   "source": [
    "#steps taken by taxi to move towards destination for drop-off.\n",
    "print(env.step(1))\n",
    "print(env.step(1))\n",
    "print(env.step(2))\n",
    "print(env.step(2))\n",
    "print(env.step(2))\n",
    "print(env.step(0))\n",
    "print(env.step(0))\n",
    "print(env.step(5))\n",
    "env.render()"
   ]
  },
  {
   "cell_type": "code",
   "execution_count": 6,
   "id": "ff725269",
   "metadata": {},
   "outputs": [],
   "source": [
    "#creating function for epsilon-greedy policy.\n",
    "def gen_epsilon_greedy_policy(n_action, epsilon):\n",
    "    def policy_function(state, Q):\n",
    "        probs = torch.ones(n_action) * epsilon / n_action\n",
    "        best_action = torch.argmax(Q[state]).item()\n",
    "        probs[best_action] += 1.0 - epsilon\n",
    "        action = torch.multinomial(probs, 1).item()\n",
    "        return action\n",
    "    return policy_function"
   ]
  },
  {
   "cell_type": "code",
   "execution_count": 7,
   "id": "58410c6f",
   "metadata": {},
   "outputs": [],
   "source": [
    "#initialization of the q-table.\n",
    "n_action = env.action_space.n\n",
    "Q = defaultdict(lambda: torch.zeros(n_action))\n",
    "\n",
    "gamma = 0.9\n",
    "n_episode = 10000\n",
    "alpha = 0.9\n",
    "epsilon = 0.6\n",
    "\n",
    "epsilon_greedy_policy = gen_epsilon_greedy_policy(env.action_space.n, epsilon)\n",
    "length_episode = [0] * n_episode\n",
    "total_reward_episode = [0] * n_episode\n",
    "\n",
    "for episode in range(n_episode):\n",
    "    state = env.reset()\n",
    "    is_done = False\n",
    "    while not is_done:\n",
    "        #rand = random.uniform(0, 1)\n",
    "        if (epsilon >= 0.5):\n",
    "            epsilon *= 0.9999\n",
    "            action = env.action_space.sample()\n",
    "        elif (epsilon < 0.5):\n",
    "            epsilon *= 0.999\n",
    "            action = epsilon_greedy_policy(state, Q)\n",
    "        next_state, reward, is_done, info = env.step(action)\n",
    "        td_delta = reward + gamma * torch.max(Q[next_state]) - Q[state][action]\n",
    "        Q[state][action] += alpha * td_delta\n",
    "        length_episode[episode] += 1\n",
    "        total_reward_episode[episode] += reward\n",
    "        if is_done:\n",
    "            break\n",
    "        state = next_state\n",
    "policy = {}\n",
    "for state, actions in Q.items():\n",
    "    policy[state] = torch.argmax(actions).item()"
   ]
  },
  {
   "cell_type": "code",
   "execution_count": 8,
   "id": "c6edec3a",
   "metadata": {},
   "outputs": [
    {
     "name": "stdout",
     "output_type": "stream",
     "text": [
      "Average no. of steps taken by Taxi for pickup/dropoff process:  14.4\n"
     ]
    }
   ],
   "source": [
    "#Calculating average number of steps\n",
    "length = []\n",
    "for no_of_trips in range(1, 11):\n",
    "    state = env.reset()\n",
    "    is_done = False\n",
    "    step = 0\n",
    "    while not is_done and step < 50:\n",
    "        # Take the action (index) that have the maximum expected future reward given that state\n",
    "        action = torch.argmax(Q[state]).item()\n",
    "        next_state, reward, is_done, info = env.step(action)\n",
    "        #clear_output(wait=True)\n",
    "        state = next_state\n",
    "        step += 1\n",
    "    length.append(step)\n",
    "avg_len = sum(length)/10\n",
    "print(\"Average no. of steps taken by Taxi for pickup/dropoff process: \", avg_len)"
   ]
  },
  {
   "cell_type": "code",
   "execution_count": 9,
   "id": "6db007f1",
   "metadata": {},
   "outputs": [
    {
     "data": {
      "image/png": "[encoded data removed]",
      "text/plain": [
       "<Figure size 432x288 with 1 Axes>"
      ]
     },
     "metadata": {
      "needs_background": "light"
     },
     "output_type": "display_data"
    },
    {
     "data": {
      "image/png": "[encoded data removed]",
      "text/plain": [
       "<Figure size 432x288 with 1 Axes>"
      ]
     },
     "metadata": {
      "needs_background": "light"
     },
     "output_type": "display_data"
    }
   ],
   "source": [
    "#plotting length and total reward for each episode over time.\n",
    "plt.plot(length_episode)\n",
    "plt.title('Episode length over time')\n",
    "plt.xlabel('Episode')\n",
    "plt.ylabel('Length')\n",
    "plt.show()\n",
    "\n",
    "plt.plot(total_reward_episode)\n",
    "plt.title('Episode reward over time')\n",
    "plt.xlabel('Episode')\n",
    "plt.ylabel('Total reward')\n",
    "plt.show()"
   ]
  },
  {
   "cell_type": "code",
   "execution_count": null,
   "id": "77d3d10b",
   "metadata": {},
   "outputs": [],
   "source": []
  }
 ],
 "metadata": {
  "kernelspec": {
   "display_name": "Python 3 (ipykernel)",
   "language": "python",
   "name": "python3"
  },
  "language_info": {
   "codemirror_mode": {
    "name": "ipython",
    "version": 3
   },
   "file_extension": ".py",
   "mimetype": "text/x-python",
   "name": "python",
   "nbconvert_exporter": "python",
   "pygments_lexer": "ipython3",
   "version": "3.8.6"
  }
 },
 "nbformat": 4,
 "nbformat_minor": 5
}
